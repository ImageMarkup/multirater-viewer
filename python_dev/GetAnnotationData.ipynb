{
 "cells": [
  {
   "cell_type": "code",
   "execution_count": null,
   "metadata": {
    "collapsed": false
   },
   "outputs": [],
   "source": [
    "import girder_client as gc\n",
    "import json\n",
    "import collections\n",
    "import pymongo        \n",
    "BASE_URL = 'https://isic-archive.com/girder/api/v1'\n",
    "gc = gc.GirderClient(apiUrl=BASE_URL)"
   ]
  },
  {
   "cell_type": "code",
   "execution_count": 2,
   "metadata": {
    "collapsed": false
   },
   "outputs": [],
   "source": [
    "### I hard coded the LesionImageFolder ID--- this is where all the Annotaiton Data lives\n",
    "AnnotationStudiesCollectionId = '55943cff9fc3c13155bcad61'\n",
    "\n",
    "# LesionImageFolderId='573f11119fc3c132505c0ee7'  #<<<This is the FIRST STUDY ACTUALLY\n",
    "# LIFdata = gc.listFolder(LesionImageFolderId)\n",
    "\n",
    "AnnotationStudies = gc.listFolder(AnnotationStudiesCollectionId,parentFolderType='Collection')"
   ]
  },
  {
   "cell_type": "code",
   "execution_count": 49,
   "metadata": {
    "collapsed": false
   },
   "outputs": [
    {
     "name": "stdout",
     "output_type": "stream",
     "text": [
      "ISBI Lesion Classification is being Analyzed\n",
      "carrerac is being processed\n",
      "halperna is being processed\n",
      "jldefazio is being processed\n",
      "marghooa is being processed\n",
      "njaimes is being processed\n",
      "oyelamos is being processed\n",
      "quigleye is being processed\n",
      "scopea1 is being processed\n",
      "UDA-1 Testing is being Analyzed\n",
      "aadikalloo is being processed\n",
      "brianhelba is being processed\n",
      "davidmanthey is being processed\n",
      "konstantinosliopyris is being processed\n",
      "msmolens is being processed\n"
     ]
    }
   ],
   "source": [
    "### Get folderInfo for a rater.... this stores what images they marked up\n",
    "## I want to have a nested dictionary as follows   STUDY_NAME --> IMAGE_NAME --> ANNOTATORS\n",
    "ReformmedStudyDict = {}\n",
    "\n",
    "\n",
    "fieldsToRemove =  ['size','creatorId','baseParentId','license','description','_modelType','folderId', 'baseParentType','created', '_id']\n",
    "\n",
    "\n",
    "metaFieldsToRemove = ['studyId','userId','imageId']\n",
    "\n",
    "\n",
    "for cs in AnnotationStudies:\n",
    "    CurStudyName = cs['name']\n",
    "    print CurStudyName,\"is being Analyzed\"\n",
    "    if CurStudyName not in ReformmedStudyDict:\n",
    "        ReformmedStudyDict[CurStudyName] = {}\n",
    "\n",
    "\n",
    "    ## Now get the data for the current Study\n",
    "    LIFdata = gc.listFolder(cs['_id'])\n",
    "    \n",
    "    \n",
    "    for LIF in LIFdata:\n",
    "        curUserName = LIF['name'].split()[0]\n",
    "        print curUserName,\"is being processed\"\n",
    "        curUserAnnotationList = gc.listItem( LIF['_id'])\n",
    "\n",
    "        for cua in curUserAnnotationList:\n",
    "            imgName =  cua['name']\n",
    "            annotationInfo = cua['meta']\n",
    "            ### I'm going to strip out keys I don't need?\n",
    "            ### Need to see if this Image has been seen\n",
    "            if imgName not in ReformmedStudyDict[CurStudyName]:\n",
    "                ReformmedStudyDict[CurStudyName][imgName] = {}\n",
    "                ReformmedStudyDict[CurStudyName][imgName]['raters'] = {}\n",
    "           \n",
    "            try:\n",
    "                ## See if current annotation has a status of ok\n",
    "                curStatus = cua['meta']['status']\n",
    "                #print curStatus\n",
    "                ## if this key is not there, means the user never completed the nanotations\n",
    "                \n",
    "            except:\n",
    "                break\n",
    "                \n",
    "            if (curUserName not in ReformmedStudyDict[CurStudyName][imgName]['raters']):\n",
    "                cuaClean = cua.copy()\n",
    "                \n",
    "                for ftr in fieldsToRemove:\n",
    "                    if ftr in cuaClean:\n",
    "                        del cuaClean[ftr]\n",
    "\n",
    "                for ftr in metaFieldsToRemove:\n",
    "                    if ftr in cuaClean['meta']:\n",
    "                        del cuaClean['meta'][ftr]\n",
    "                ### now clean up the metadata object as well.. too much data is being returend\n",
    "                stop=start=None\n",
    "                #meta fields to delete\n",
    "                if 'stopTime' in cuaClean['meta']:\n",
    "                    stop = dateutil.parser.parse(cuaClean['meta']['stopTime'])\n",
    "                    del cuaClean['meta']['stopTime']\n",
    "                if 'startTime' in cuaClean['meta']:\n",
    "                    start = dateutil.parser.parse(cuaClean['meta']['startTime'])\n",
    "                if stop and start:\n",
    "\n",
    "                    cuaClean['meta']['markupTime'] = \"%s\" % (stop-start)\n",
    "                \n",
    "                \n",
    "                ReformmedStudyDict[CurStudyName][imgName]['raters'][curUserName] = cuaClean\n",
    "\n",
    "                \n",
    "with open('momo.json','w') as fp:\n",
    "    json.dump(ReformmedStudyDict,fp,indent=1)"
   ]
  },
  {
   "cell_type": "code",
   "execution_count": 26,
   "metadata": {
    "collapsed": false
   },
   "outputs": [
    {
     "name": "stdout",
     "output_type": "stream",
     "text": [
      "Requirement already satisfied (use --upgrade to upgrade): python-dateutil==2.4.2 in /Users/dg_mbp512/miniconda/envs/GirderClient/lib/python2.7/site-packages\n",
      "Requirement already satisfied (use --upgrade to upgrade): six>=1.5 in /Users/dg_mbp512/miniconda/envs/GirderClient/lib/python2.7/site-packages (from python-dateutil==2.4.2)\n",
      "\u001b[33mYou are using pip version 8.1.2, however version 9.0.0 is available.\n",
      "You should consider upgrading via the 'pip install --upgrade pip' command.\u001b[0m\n",
      "2016-08-25 17:54:55.409000+00:00\n"
     ]
    }
   ],
   "source": [
    "import datetime as dt\n",
    "\n",
    "stopTime =  \"2016-08-25T17:54:55.409000+00:00\"\n",
    "\n",
    "!pip install python-dateutil==2.4.2\n",
    "\n",
    "import dateutil.parser\n",
    "st = dateutil.parser.parse(stopTime)\n",
    "print st"
   ]
  },
  {
   "cell_type": "code",
   "execution_count": 4,
   "metadata": {
    "collapsed": false
   },
   "outputs": [
    {
     "name": "stdout",
     "output_type": "stream",
     "text": [
      "[u'UDA-1 Testing', u'ISBI Lesion Classification']\n"
     ]
    }
   ],
   "source": []
  },
  {
   "cell_type": "code",
   "execution_count": 16,
   "metadata": {
    "collapsed": false
   },
   "outputs": [
    {
     "name": "stdout",
     "output_type": "stream",
     "text": [
      "------UDA-1 Testing----\n",
      "ISIC_0000169 5\n",
      "ISIC_0000297 5\n",
      "ISIC_0000316 5\n",
      "ISIC_0000160 5\n",
      "ISIC_0000166 5\n",
      "ISIC_0000315 5\n",
      "ISIC_0000313 5\n",
      "ISIC_0000262 5\n",
      "ISIC_0000295 5\n",
      "ISIC_0000199 5\n",
      "ISIC_0000235 5\n",
      "ISIC_0000319 5\n",
      "ISIC_0000296 5\n",
      "ISIC_0000210 5\n",
      "ISIC_0000314 5\n",
      "ISIC_0000212 5\n",
      "ISIC_0000190 5\n",
      "ISIC_0000311 5\n",
      "ISIC_0000310 5\n",
      "ISIC_0000238 5\n",
      "ISIC_0000312 5\n",
      "ISIC_0000273 5\n",
      "ISIC_0000252 5\n",
      "ISIC_0000253 5\n",
      "ISIC_0000306 5\n",
      "ISIC_0000304 5\n",
      "ISIC_0000170 5\n",
      "ISIC_0000173 5\n",
      "ISIC_0000158 5\n",
      "ISIC_0000298 5\n",
      "ISIC_0000299 5\n",
      "ISIC_0000178 5\n",
      "ISIC_0000213 5\n",
      "ISIC_0000198 5\n",
      "ISIC_0000318 5\n",
      "ISIC_0000320 5\n",
      "ISIC_0000209 5\n",
      "ISIC_0000269 5\n",
      "ISIC_0000187 5\n",
      "ISIC_0000302 5\n",
      "ISIC_0000303 5\n",
      "ISIC_0000300 5\n",
      "ISIC_0000301 5\n",
      "ISIC_0000243 5\n",
      "ISIC_0000307 5\n",
      "ISIC_0000241 5\n",
      "ISIC_0000305 5\n",
      "ISIC_0000308 5\n",
      "ISIC_0000309 5\n",
      "ISIC_0000317 5\n",
      "------ISBI Lesion Classification----\n",
      "ISIC_0000022 8\n",
      "ISIC_0000287 8\n",
      "ISIC_0000040 8\n",
      "ISIC_0000510 8\n",
      "ISIC_0000311 8\n",
      "ISIC_0000289 8\n",
      "ISIC_0000141 8\n",
      "ISIC_0000164 8\n",
      "ISIC_0000518 8\n",
      "ISIC_0000499 8\n",
      "ISIC_0009955 8\n",
      "ISIC_0009958 8\n",
      "ISIC_0009959 8\n",
      "ISIC_0009882 8\n",
      "ISIC_0000378 8\n",
      "ISIC_0000393 8\n",
      "ISIC_0000230 8\n",
      "ISIC_0000549 8\n",
      "ISIC_0000197 8\n",
      "ISIC_0000310 8\n",
      "ISIC_0009902 8\n",
      "ISIC_0000138 8\n",
      "ISIC_0000053 8\n",
      "ISIC_0000132 8\n",
      "ISIC_0000013 8\n",
      "ISIC_0000547 8\n",
      "ISIC_0000174 8\n",
      "ISIC_0000115 8\n",
      "ISIC_0000298 8\n",
      "ISIC_0000299 8\n",
      "ISIC_0000056 8\n",
      "ISIC_0001128 8\n",
      "ISIC_0001100 8\n",
      "ISIC_0000484 8\n",
      "ISIC_0000487 8\n",
      "ISIC_0009872 8\n",
      "ISIC_0002107 8\n",
      "ISIC_0000015 8\n",
      "ISIC_0009898 8\n",
      "ISIC_0000228 8\n",
      "ISIC_0001142 8\n",
      "ISIC_0001103 8\n",
      "ISIC_0009927 8\n",
      "ISIC_0000466 8\n",
      "ISIC_0000302 8\n",
      "ISIC_0000126 8\n",
      "ISIC_0000534 8\n",
      "ISIC_0000125 8\n",
      "ISIC_0008507 8\n",
      "ISIC_0000533 8\n"
     ]
    }
   ],
   "source": [
    "# print ReformmedStudyDict.keys()\n",
    "# print ReformmedStudyDict['ISBI Lesion Classification'].keys()\n",
    "\n",
    "for studyName,studyAnnotationData in ReformmedStudyDict.iteritems():\n",
    "    print \"------%s----\" % studyName\n",
    "    for img in studyAnnotationData:\n",
    "        print img, len(studyAnnotationData[img]['raters'])\n",
    "\n",
    "with open('momo.json','w') as fp:\n",
    "    json.dump(ReformmedStudyDict,fp,indent=2)\n",
    "        "
   ]
  },
  {
   "cell_type": "code",
   "execution_count": null,
   "metadata": {
    "collapsed": false
   },
   "outputs": [],
   "source": [
    "print len(LIFdata) ## These are the 8 raters.. what I care about is the data from each rater..\n",
    "\n",
    "LIFdataClean = []\n",
    "for lf in  LIFdata:\n",
    "    #print lf.keys()\n",
    "#    [u'size', u'updated', u'description', u'created', u'baseParentType', u'public', u'meta', u'baseParentId', u'creatorId', u'parentId', u'parentCollection', u'_id', u'_modelType', u'_accessLevel', u'name']\n",
    "    keysToKeep = [  u'meta', u'baseParentId',  u'parentId', u'_id',u'name']\n",
    "    \n",
    "    lfClean = lf.copy()\n",
    "    for k,v in lf.iteritems():\n",
    "        if k not in keysToKeep:\n",
    "            del lfClean[k]\n",
    "    LIFdataClean.append(lfClean)\n",
    "    \n",
    "#     for k,v in lf.iteritems():\n",
    "#         if k in keysToKeep:\n",
    "#             print k,v\n",
    "#     sys.exit()\n",
    "print LIFdataClean"
   ]
  },
  {
   "cell_type": "code",
   "execution_count": null,
   "metadata": {
    "collapsed": false
   },
   "outputs": [],
   "source": []
  },
  {
   "cell_type": "code",
   "execution_count": null,
   "metadata": {
    "collapsed": false
   },
   "outputs": [],
   "source": []
  },
  {
   "cell_type": "code",
   "execution_count": null,
   "metadata": {
    "collapsed": false
   },
   "outputs": [],
   "source": []
  },
  {
   "cell_type": "code",
   "execution_count": null,
   "metadata": {
    "collapsed": true
   },
   "outputs": [],
   "source": [
    "from pprint import pprint"
   ]
  },
  {
   "cell_type": "code",
   "execution_count": null,
   "metadata": {
    "collapsed": false
   },
   "outputs": [],
   "source": [
    "### The data is currently nearly impossible to decipher based on how it's stored\n",
    "### I want to basically know the Study Names, the images in that study, the people who rated it, and then their answers...\n",
    "\n",
    "### First look in the Annotation Studies Folder\n",
    "AnnotStudyColl = '55943cff9fc3c13155bcad61'\n",
    "AnnotStudies = gc.listFolder(AnnotStudyColl,parentFolderType='collection')\n",
    "\n"
   ]
  },
  {
   "cell_type": "code",
   "execution_count": null,
   "metadata": {
    "collapsed": false
   },
   "outputs": [],
   "source": [
    "AnnotStudiesClean = []\n",
    "for ast in AnnotStudies:\n",
    "    AnnotStudiesClean.append( {'_id': ast['_id'], 'studyId': ast['_id'], 'studyName': ast['name'], \n",
    "                             'studyFeatureSetId': ast['meta']['featuresetId']} )"
   ]
  },
  {
   "cell_type": "code",
   "execution_count": null,
   "metadata": {
    "collapsed": false
   },
   "outputs": [],
   "source": [
    "pprint( AnnotStudiesClean)"
   ]
  },
  {
   "cell_type": "markdown",
   "metadata": {},
   "source": [
    "featureSetList = gc.getResource('featureset')\n"
   ]
  },
  {
   "cell_type": "code",
   "execution_count": null,
   "metadata": {
    "collapsed": false
   },
   "outputs": [],
   "source": [
    "featureSetData = {}\n",
    "for fsl in featureSetList:\n",
    "    curFeatSet = gc.getResource('featureset/%s' % fsl['_id'])\n",
    "#     print curFeatSet\n",
    "#     print fsl['name']\n",
    "    featureSetData[fsl['name']] = curFeatSet"
   ]
  },
  {
   "cell_type": "code",
   "execution_count": null,
   "metadata": {
    "collapsed": false
   },
   "outputs": [],
   "source": [
    "print featureSetData.keys()"
   ]
  },
  {
   "cell_type": "code",
   "execution_count": null,
   "metadata": {
    "collapsed": true
   },
   "outputs": [],
   "source": [
    "pmc = pymongo.MongoClient('localhost',27017)\n",
    "pmc.database_names()\n",
    "ISIC_DB = pmc['ISIC_DB']"
   ]
  },
  {
   "cell_type": "code",
   "execution_count": null,
   "metadata": {
    "collapsed": true
   },
   "outputs": [],
   "source": [
    "https://isic-archive.com/girder#collection/55943cff9fc3c13155bcad61/folder/573f11119fc3c132505c0ee7"
   ]
  }
 ],
 "metadata": {
  "kernelspec": {
   "display_name": "Python 2",
   "language": "python",
   "name": "python2"
  },
  "language_info": {
   "codemirror_mode": {
    "name": "ipython",
    "version": 2
   },
   "file_extension": ".py",
   "mimetype": "text/x-python",
   "name": "python",
   "nbconvert_exporter": "python",
   "pygments_lexer": "ipython2",
   "version": "2.7.12"
  }
 },
 "nbformat": 4,
 "nbformat_minor": 0
}
