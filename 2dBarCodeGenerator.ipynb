{
 "cells": [
  {
   "cell_type": "code",
   "execution_count": 5,
   "metadata": {
    "collapsed": false
   },
   "outputs": [],
   "source": [
    "import os,sys,re\n",
    "from IPython.display import Image\n",
    "import qrcode\n",
    "my_patient_info = {'first_name': 'Dan', 'last_name': 'Hoke', 'study_id': 12345657}\n",
    "import redcap\n",
    "\n",
    "\n",
    "base_url = \"http://redcap-neuro.emory.edu/\""
   ]
  },
  {
   "cell_type": "code",
   "execution_count": 11,
   "metadata": {
    "collapsed": false
   },
   "outputs": [
    {
     "name": "stderr",
     "output_type": "stream",
     "text": [
      "/Users/dagutman/anaconda/envs/Flask_MultiRater/lib/python2.7/site-packages/requests/packages/urllib3/connectionpool.py:768: InsecureRequestWarning: Unverified HTTPS request is being made. Adding certificate verification is strongly advised. See: https://urllib3.readthedocs.org/en/latest/security.html\n",
      "  InsecureRequestWarning)\n"
     ]
    },
    {
     "data": {
      "text/plain": [
       "[{u'address': u'',\n",
       "  u'aerobics___0': u'0',\n",
       "  u'aerobics___1': u'0',\n",
       "  u'aerobics___2': u'0',\n",
       "  u'aerobics___3': u'0',\n",
       "  u'aerobics___4': u'0',\n",
       "  u'age': u'',\n",
       "  u'alb_4': u'',\n",
       "  u'baseline_data_complete': u'0',\n",
       "  u'bmi': u'',\n",
       "  u'bmi2': u'',\n",
       "  u'chol_4': u'',\n",
       "  u'chol_b': u'',\n",
       "  u'comments': u'',\n",
       "  u'complete_study': u'',\n",
       "  u'completion_data_complete': u'0',\n",
       "  u'completion_project_questionnaire_complete': u'0',\n",
       "  u'contact_info_complete': u'0',\n",
       "  u'cpq1': u'',\n",
       "  u'cpq10': u'',\n",
       "  u'cpq11': u'',\n",
       "  u'cpq12': u'',\n",
       "  u'cpq13': u'',\n",
       "  u'cpq2': u'',\n",
       "  u'cpq3': u'',\n",
       "  u'cpq4': u'',\n",
       "  u'cpq5': u'',\n",
       "  u'cpq6': u'',\n",
       "  u'cpq7': u'',\n",
       "  u'cpq8': u'',\n",
       "  u'cpq9': u'',\n",
       "  u'creat_4': u'',\n",
       "  u'creat_b': u'',\n",
       "  u'date_enrolled': u'',\n",
       "  u'date_visit_4': u'',\n",
       "  u'demographics_complete': u'0',\n",
       "  u'dialysis_schedule_days': u'',\n",
       "  u'dialysis_schedule_time': u'',\n",
       "  u'dialysis_unit_name': u'',\n",
       "  u'dialysis_unit_phone': u'',\n",
       "  u'discharge_date_4': u'',\n",
       "  u'discharge_summary_4': u'',\n",
       "  u'dob': u'',\n",
       "  u'drink___0': u'0',\n",
       "  u'drink___1': u'0',\n",
       "  u'drink___2': u'0',\n",
       "  u'drink___3': u'0',\n",
       "  u'drink___4': u'0',\n",
       "  u'eat___0': u'0',\n",
       "  u'eat___1': u'0',\n",
       "  u'eat___2': u'0',\n",
       "  u'eat___3': u'0',\n",
       "  u'eat___4': u'0',\n",
       "  u'email': u'',\n",
       "  u'ethnicity': u'',\n",
       "  u'etiology_esrd': u'',\n",
       "  u'first_name': u'Dan',\n",
       "  u'given_birth': u'',\n",
       "  u'gym___0': u'0',\n",
       "  u'gym___1': u'0',\n",
       "  u'gym___2': u'0',\n",
       "  u'gym___3': u'0',\n",
       "  u'gym___4': u'0',\n",
       "  u'height': u'',\n",
       "  u'height2': u'',\n",
       "  u'last_name': u'Hoke',\n",
       "  u'meds___1': u'0',\n",
       "  u'meds___2': u'0',\n",
       "  u'meds___3': u'0',\n",
       "  u'meds___4': u'0',\n",
       "  u'meds___5': u'0',\n",
       "  u'npcr_4': u'',\n",
       "  u'npcr_b': u'',\n",
       "  u'num_children': u'',\n",
       "  u'patient_document': u'',\n",
       "  u'patient_morale_questionnaire_complete': u'0',\n",
       "  u'pmq1': u'',\n",
       "  u'pmq2': u'',\n",
       "  u'pmq3': u'',\n",
       "  u'pmq4': u'',\n",
       "  u'prealb_4': u'',\n",
       "  u'prealb_b': u'',\n",
       "  u'race': u'',\n",
       "  u'sex': u'',\n",
       "  u'specify_mood': u'',\n",
       "  u'study_comments': u'',\n",
       "  u'study_id': 12345657,\n",
       "  u'subject_comments': u'',\n",
       "  u'telephone_1': u'',\n",
       "  u'transferrin_b': u'',\n",
       "  u'vbw1': u'',\n",
       "  u'vbw2': u'',\n",
       "  u'vbw3': u'',\n",
       "  u'vbw4': u'',\n",
       "  u'vbw5': u'',\n",
       "  u'vbw6': u'',\n",
       "  u'vbw7': u'',\n",
       "  u'vbw8': u'',\n",
       "  u'vbw9': u'',\n",
       "  u'visit_blood_workup_complete': u'0',\n",
       "  u'visit_lab_data_complete': u'0',\n",
       "  u'visit_observed_behavior_complete': u'0',\n",
       "  u'vld1': u'',\n",
       "  u'vld2': u'',\n",
       "  u'vld3': u'',\n",
       "  u'vld4': u'',\n",
       "  u'vld5': u'',\n",
       "  u'vob1': u'',\n",
       "  u'vob10': u'',\n",
       "  u'vob11': u'',\n",
       "  u'vob12': u'',\n",
       "  u'vob13': u'',\n",
       "  u'vob14': u'',\n",
       "  u'vob2': u'',\n",
       "  u'vob3': u'',\n",
       "  u'vob4': u'',\n",
       "  u'vob5': u'',\n",
       "  u'vob6': u'',\n",
       "  u'vob7': u'',\n",
       "  u'vob8': u'',\n",
       "  u'vob9': u'',\n",
       "  u'weight': u'',\n",
       "  u'weight2': u'',\n",
       "  u'withdraw_date': u'',\n",
       "  u'withdraw_reason': u''}]"
      ]
     },
     "execution_count": 11,
     "metadata": {},
     "output_type": "execute_result"
    }
   ],
   "source": [
    "cur_proj.export_records(['12345657'])"
   ]
  },
  {
   "cell_type": "code",
   "execution_count": 2,
   "metadata": {
    "collapsed": false
   },
   "outputs": [
    {
     "name": "stderr",
     "output_type": "stream",
     "text": [
      "/Users/dagutman/anaconda/envs/Flask_MultiRater/lib/python2.7/site-packages/requests/packages/urllib3/connectionpool.py:768: InsecureRequestWarning: Unverified HTTPS request is being made. Adding certificate verification is strongly advised. See: https://urllib3.readthedocs.org/en/latest/security.html\n",
      "  InsecureRequestWarning)\n",
      "/Users/dagutman/anaconda/envs/Flask_MultiRater/lib/python2.7/site-packages/requests/packages/urllib3/connectionpool.py:768: InsecureRequestWarning: Unverified HTTPS request is being made. Adding certificate verification is strongly advised. See: https://urllib3.readthedocs.org/en/latest/security.html\n",
      "  InsecureRequestWarning)\n"
     ]
    }
   ],
   "source": [
    "api_key = '1C5FCBE964831D431EA786BD15B21A91'\n",
    "api_url =  \"https://redcap-neuro.emory.edu/api/\"\n",
    "\n",
    "cur_proj = redcap.Project(api_url,api_key)"
   ]
  },
  {
   "cell_type": "code",
   "execution_count": 6,
   "metadata": {
    "collapsed": false
   },
   "outputs": [
    {
     "name": "stderr",
     "output_type": "stream",
     "text": [
      "/Users/dagutman/anaconda/envs/Flask_MultiRater/lib/python2.7/site-packages/requests/packages/urllib3/connectionpool.py:768: InsecureRequestWarning: Unverified HTTPS request is being made. Adding certificate verification is strongly advised. See: https://urllib3.readthedocs.org/en/latest/security.html\n",
      "  InsecureRequestWarning)\n"
     ]
    },
    {
     "data": {
      "text/plain": [
       "{u'count': 1}"
      ]
     },
     "execution_count": 6,
     "metadata": {},
     "output_type": "execute_result"
    }
   ],
   "source": [
    "cur_proj.import_records([my_patient_info])\n",
    "\n",
    "\n"
   ]
  },
  {
   "cell_type": "code",
   "execution_count": 10,
   "metadata": {
    "collapsed": false
   },
   "outputs": [
    {
     "data": {
      "image/png": "[encoded data removed]",
      "text/plain": [
       "<qrcode.image.pil.PilImage at 0x104d55bd0>"
      ]
     },
     "execution_count": 10,
     "metadata": {},
     "output_type": "execute_result"
    }
   ],
   "source": [
    "dans_qr = qrcode.make('http://dealnews.com/')\n",
    "dans_qr"
   ]
  }
 ],
 "metadata": {
  "kernelspec": {
   "display_name": "Python 2",
   "language": "python",
   "name": "python2"
  },
  "language_info": {
   "codemirror_mode": {
    "name": "ipython",
    "version": 2
   },
   "file_extension": ".py",
   "mimetype": "text/x-python",
   "name": "python",
   "nbconvert_exporter": "python",
   "pygments_lexer": "ipython2",
   "version": "2.7.10"
  }
 },
 "nbformat": 4,
 "nbformat_minor": 0
}
