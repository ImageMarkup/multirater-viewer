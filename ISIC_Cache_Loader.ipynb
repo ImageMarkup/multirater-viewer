{
 "cells": [
  {
   "cell_type": "code",
   "execution_count": 1,
   "metadata": {
    "collapsed": true
   },
   "outputs": [],
   "source": [
    "\"\"\" This will create a local cached version of the requests that I can use for testing..\"\"\"\n",
    "import requests\n",
    "import requests_cache\n",
    "##jeckhart/requests-cache   |   0.4.10 | conda           | osx-64\n",
    "#conda install -c https://conda.anaconda.org/USERNAME PACKAGE\n",
    "\n",
    "import pymongo\n",
    "#requests_cache.install_cache('isic_cache')  ##Creates local sqllite database\n",
    "\n",
    "\n",
    "girder_token = None\n",
    "def login(username, password):\n",
    "    login_url = 'https://isic-archive.com/api/v1/user/authentication'\n",
    "    login_response = requests.get(login_url, auth=(username, password))\n",
    "    login_response.raise_for_status()\n",
    "    global girder_token\n",
    "    girder_token = login_response.json()['authToken']['token']\n",
    "\n",
    "def apiGet(endpoint, as_json=True):\n",
    "    url = 'https://isic-archive.com/api/v1/%s' % endpoint\n",
    "    headers = {}\n",
    "    global girder_token\n",
    "    if girder_token:\n",
    "        headers['Girder-Token'] = girder_token\n",
    "    response = requests.get(url, headers=headers)\n",
    "    if as_json:\n",
    "        return response.json()\n",
    "    else:\n",
    "        return response\n",
    "\n",
    "def getStudies():\n",
    "    \"\"\" Get a list of all studies. \"\"\"\n",
    "    return apiGet('study')\n",
    "\n",
    "def getStudyDetail(study_id):\n",
    "    \"\"\" Get the detailed metadata for a study. \"\"\"\n",
    "    return apiGet('study/%s' % study_id)\n",
    "\n",
    "def getFeaturesetDetail(featureset_id):\n",
    "    \"\"\" Get the details of a featureset. \"\"\"\n",
    "    return apiGet('featureset/%s' % featureset_id)\n",
    "\n",
    "def getStudyUsers(study_id):\n",
    "    \"\"\" Get a list of users in a study. \"\"\"\n",
    "    return apiGet('study/%s/users' % study_id)\n",
    "\n",
    "def getStudyImages(study_id):\n",
    "    \"\"\" Get a list of images in a study. \"\"\"\n",
    "    return apiGet('study/%s/images' % study_id)\n",
    "\n",
    "def getImageDetail(image_id):\n",
    "    \"\"\" Get the detailed metadata for an image. \"\"\"\n",
    "    return apiGet('image/%s' % image_id)\n",
    "\n",
    "def getImageFile(image_id):\n",
    "    \"\"\" Get the original JPEG file for an image. \"\"\"\n",
    "    return apiGet('image/%s/download' % image_id, as_json=False)\n",
    "\n",
    "def getImageThumbnail(image_id, width=None):\n",
    "    \"\"\" Get the thumbnail-size JPEG preview for an image.\n",
    "        Width defaults to 256 if not specified. \"\"\"\n",
    "    url = 'image/%s/thumbnail' % image_id\n",
    "    if width is not None:\n",
    "        url += '?width=%s' % width\n",
    "    return apiGet(url, as_json=False)\n",
    "\n",
    "def getAnnotations(study_id, user_id=None, image_id=None):\n",
    "    \"\"\" Get the list of annotations for a study (optionally filtering by user or image). \"\"\"\n",
    "    url = 'annotation?studyId=' + study_id\n",
    "    if user_id:\n",
    "        url += '&userId=' + user_id\n",
    "    if image_id:\n",
    "        url += '&imageId=' + image_id\n",
    "    return apiGet(url)\n",
    "\n",
    "def getAnnotationDetail(annotation_id):\n",
    "    \"\"\" Get the details of an annotation, including the feature values. \"\"\"\n",
    "    return apiGet('annotation/%s' % annotation_id)\n",
    "\n",
    "def getSegmentationDetail(segmentation_id):\n",
    "    \"\"\" Get the details of a segmentation, including the lesion boundary. \"\"\"\n",
    "    return apiGet('segmentation/%s' % segmentation_id)\n",
    "\n",
    "def getSegmentationSuperpixels(segmentation_id):\n",
    "    \"\"\" Get the PNG-encoded superpixels file for a segmentation. \"\"\"\n",
    "    return apiGet('segmentation/%s/superpixels' % segmentation_id, as_json=False)\n",
    "\n",
    "def getSegmentationThumbnail(segmentation_id, width=None):\n",
    "    \"\"\" Get the a thumbnail-size JPEG preview of the lesion boundary for a segmentation.\n",
    "    Width defaults to 256 if not specified. \"\"\"\n",
    "    url = 'segmentation/%s/thumbnail' % segmentation_id\n",
    "    if width is not None:\n",
    "        url += '?width=%s' % width\n",
    "    return apiGet(url, as_json=False)"
   ]
  },
  {
   "cell_type": "code",
   "execution_count": 2,
   "metadata": {
    "collapsed": false
   },
   "outputs": [],
   "source": [
    "\"\"\" Enter your credentials here, but DO NOT save and commit this Notebook with them present. \"\"\"\n",
    "from secrets import username,password\n",
    "\n",
    "\n",
    "login(username, password)"
   ]
  },
  {
   "cell_type": "code",
   "execution_count": 3,
   "metadata": {
    "collapsed": false
   },
   "outputs": [
    {
     "name": "stdout",
     "output_type": "stream",
     "text": [
      "Study: MSK-2 (55c405419fc3c151ac90bfb6)\n",
      "  Featureset: ISIC Conventional\n",
      "  Images: 1535\n",
      "  Users: 4\n",
      "Study: sonic_br_bris_bros (55c442879fc3c1536a012d60)\n",
      "  Featureset: UDA2 Study\n",
      "  Images: 400\n",
      "  Users: 1\n",
      "Study: uda_10-9-2014_560imgs (55c442809fc3c1536a012b57)\n",
      "  Featureset: UDA2 Study\n",
      "  Images: 259\n",
      "  Users: 1\n",
      "Study: sonic_exemplars_for_noel (55c4429b9fc3c1536a012ef2)\n",
      "  Featureset: UDA2 Study\n",
      "  Images: 100\n",
      "  Users: 1\n",
      "Study: SONIC_2_2_2015 (55c4427e9fc3c1536a012a8c)\n",
      "  Featureset: UDA2 Study\n",
      "  Images: 100\n",
      "  Users: 1\n",
      "Study: UDA2_pilot (55c4668a9fc3c1536a0130c8)\n",
      "  Featureset: UDA2 Study\n",
      "  Images: 60\n",
      "  Users: 4\n",
      "Study: ISBI Challenge (567864779fc3c148a0c9b248)\n",
      "  Featureset: ISBI Challenge\n",
      "  Images: 664\n",
      "  Users: 3\n",
      "Study: ISBI Challenge (MSK-2) (568c0a4c9fc3c133e7ddc20a)\n",
      "  Featureset: ISBI Challenge\n",
      "  Images: 615\n",
      "  Users: 1\n"
     ]
    }
   ],
   "source": [
    "study_list = getStudies()\n",
    "for study in study_list:\n",
    "    study_featureset = getFeaturesetDetail(study['meta']['featuresetId'])\n",
    "    study_images = getStudyImages(study['_id'])\n",
    "    study_users = getStudyUsers(study['_id'])\n",
    "    \n",
    "    print 'Study: %s (%s)' % (study['name'], study['_id'])\n",
    "    print '  Featureset: %s' % study_featureset['name']\n",
    "    print '  Images: %s' % len(study_images)\n",
    "    print '  Users: %s' % len(study_users)"
   ]
  },
  {
   "cell_type": "code",
   "execution_count": 4,
   "metadata": {
    "collapsed": false
   },
   "outputs": [
    {
     "name": "stdout",
     "output_type": "stream",
     "text": [
      "UDA2_pilot\n",
      "  ISIC_0001100\n",
      "    braunr complete\n",
      "    carrerac complete\n",
      "    haroldr complete\n",
      "    marghooa complete\n",
      "  ISIC_0001101\n",
      "    braunr complete\n",
      "    carrerac complete\n",
      "    haroldr complete\n",
      "    marghooa complete\n",
      "  ISIC_0001102\n",
      "    braunr complete\n"
     ]
    },
    {
     "ename": "KeyboardInterrupt",
     "evalue": "",
     "output_type": "error",
     "traceback": [
      "\u001b[0;31m---------------------------------------------------------------------------\u001b[0m",
      "\u001b[0;31mKeyboardInterrupt\u001b[0m                         Traceback (most recent call last)",
      "\u001b[0;32m<ipython-input-4-00c75ba8a34b>\u001b[0m in \u001b[0;36m<module>\u001b[0;34m()\u001b[0m\n\u001b[1;32m     32\u001b[0m             \u001b[0;31m# Some old annotations don't have the segmentation ID attached yet\u001b[0m\u001b[0;34m\u001b[0m\u001b[0;34m\u001b[0m\u001b[0m\n\u001b[1;32m     33\u001b[0m             \u001b[0;31m# So, grab the first (most recent) segmentation associated with the image\u001b[0m\u001b[0;34m\u001b[0m\u001b[0;34m\u001b[0m\u001b[0m\n\u001b[0;32m---> 34\u001b[0;31m             \u001b[0msegmentation\u001b[0m \u001b[0;34m=\u001b[0m \u001b[0mapiGet\u001b[0m\u001b[0;34m(\u001b[0m\u001b[0;34m'segmentation?imageId=%s'\u001b[0m \u001b[0;34m%\u001b[0m \u001b[0mannotation\u001b[0m\u001b[0;34m[\u001b[0m\u001b[0;34m'imageId'\u001b[0m\u001b[0;34m]\u001b[0m\u001b[0;34m)\u001b[0m\u001b[0;34m[\u001b[0m\u001b[0;36m0\u001b[0m\u001b[0;34m]\u001b[0m\u001b[0;34m\u001b[0m\u001b[0m\n\u001b[0m\u001b[1;32m     35\u001b[0m \u001b[0;34m\u001b[0m\u001b[0m\n\u001b[1;32m     36\u001b[0m         \u001b[0mimage_metadata\u001b[0m \u001b[0;34m=\u001b[0m \u001b[0mimage\u001b[0m\u001b[0;34m[\u001b[0m\u001b[0;34m'meta'\u001b[0m\u001b[0;34m]\u001b[0m\u001b[0;34m\u001b[0m\u001b[0m\n",
      "\u001b[0;32m<ipython-input-1-b99239373d7e>\u001b[0m in \u001b[0;36mapiGet\u001b[0;34m(endpoint, as_json)\u001b[0m\n\u001b[1;32m     23\u001b[0m     \u001b[0;32mif\u001b[0m \u001b[0mgirder_token\u001b[0m\u001b[0;34m:\u001b[0m\u001b[0;34m\u001b[0m\u001b[0m\n\u001b[1;32m     24\u001b[0m         \u001b[0mheaders\u001b[0m\u001b[0;34m[\u001b[0m\u001b[0;34m'Girder-Token'\u001b[0m\u001b[0;34m]\u001b[0m \u001b[0;34m=\u001b[0m \u001b[0mgirder_token\u001b[0m\u001b[0;34m\u001b[0m\u001b[0m\n\u001b[0;32m---> 25\u001b[0;31m     \u001b[0mresponse\u001b[0m \u001b[0;34m=\u001b[0m \u001b[0mrequests\u001b[0m\u001b[0;34m.\u001b[0m\u001b[0mget\u001b[0m\u001b[0;34m(\u001b[0m\u001b[0murl\u001b[0m\u001b[0;34m,\u001b[0m \u001b[0mheaders\u001b[0m\u001b[0;34m=\u001b[0m\u001b[0mheaders\u001b[0m\u001b[0;34m)\u001b[0m\u001b[0;34m\u001b[0m\u001b[0m\n\u001b[0m\u001b[1;32m     26\u001b[0m     \u001b[0;32mif\u001b[0m \u001b[0mas_json\u001b[0m\u001b[0;34m:\u001b[0m\u001b[0;34m\u001b[0m\u001b[0m\n\u001b[1;32m     27\u001b[0m         \u001b[0;32mreturn\u001b[0m \u001b[0mresponse\u001b[0m\u001b[0;34m.\u001b[0m\u001b[0mjson\u001b[0m\u001b[0;34m(\u001b[0m\u001b[0;34m)\u001b[0m\u001b[0;34m\u001b[0m\u001b[0m\n",
      "\u001b[0;32m/Users/dagutman/anaconda/envs/Flask_MultiRater/lib/python2.7/site-packages/requests/api.pyc\u001b[0m in \u001b[0;36mget\u001b[0;34m(url, params, **kwargs)\u001b[0m\n\u001b[1;32m     65\u001b[0m \u001b[0;34m\u001b[0m\u001b[0m\n\u001b[1;32m     66\u001b[0m     \u001b[0mkwargs\u001b[0m\u001b[0;34m.\u001b[0m\u001b[0msetdefault\u001b[0m\u001b[0;34m(\u001b[0m\u001b[0;34m'allow_redirects'\u001b[0m\u001b[0;34m,\u001b[0m \u001b[0mTrue\u001b[0m\u001b[0;34m)\u001b[0m\u001b[0;34m\u001b[0m\u001b[0m\n\u001b[0;32m---> 67\u001b[0;31m     \u001b[0;32mreturn\u001b[0m \u001b[0mrequest\u001b[0m\u001b[0;34m(\u001b[0m\u001b[0;34m'get'\u001b[0m\u001b[0;34m,\u001b[0m \u001b[0murl\u001b[0m\u001b[0;34m,\u001b[0m \u001b[0mparams\u001b[0m\u001b[0;34m=\u001b[0m\u001b[0mparams\u001b[0m\u001b[0;34m,\u001b[0m \u001b[0;34m**\u001b[0m\u001b[0mkwargs\u001b[0m\u001b[0;34m)\u001b[0m\u001b[0;34m\u001b[0m\u001b[0m\n\u001b[0m\u001b[1;32m     68\u001b[0m \u001b[0;34m\u001b[0m\u001b[0m\n\u001b[1;32m     69\u001b[0m \u001b[0;34m\u001b[0m\u001b[0m\n",
      "\u001b[0;32m/Users/dagutman/anaconda/envs/Flask_MultiRater/lib/python2.7/site-packages/requests/api.pyc\u001b[0m in \u001b[0;36mrequest\u001b[0;34m(method, url, **kwargs)\u001b[0m\n\u001b[1;32m     51\u001b[0m     \u001b[0;31m# cases, and look like a memory leak in others.\u001b[0m\u001b[0;34m\u001b[0m\u001b[0;34m\u001b[0m\u001b[0m\n\u001b[1;32m     52\u001b[0m     \u001b[0;32mwith\u001b[0m \u001b[0msessions\u001b[0m\u001b[0;34m.\u001b[0m\u001b[0mSession\u001b[0m\u001b[0;34m(\u001b[0m\u001b[0;34m)\u001b[0m \u001b[0;32mas\u001b[0m \u001b[0msession\u001b[0m\u001b[0;34m:\u001b[0m\u001b[0;34m\u001b[0m\u001b[0m\n\u001b[0;32m---> 53\u001b[0;31m         \u001b[0;32mreturn\u001b[0m \u001b[0msession\u001b[0m\u001b[0;34m.\u001b[0m\u001b[0mrequest\u001b[0m\u001b[0;34m(\u001b[0m\u001b[0mmethod\u001b[0m\u001b[0;34m=\u001b[0m\u001b[0mmethod\u001b[0m\u001b[0;34m,\u001b[0m \u001b[0murl\u001b[0m\u001b[0;34m=\u001b[0m\u001b[0murl\u001b[0m\u001b[0;34m,\u001b[0m \u001b[0;34m**\u001b[0m\u001b[0mkwargs\u001b[0m\u001b[0;34m)\u001b[0m\u001b[0;34m\u001b[0m\u001b[0m\n\u001b[0m\u001b[1;32m     54\u001b[0m \u001b[0;34m\u001b[0m\u001b[0m\n\u001b[1;32m     55\u001b[0m \u001b[0;34m\u001b[0m\u001b[0m\n",
      "\u001b[0;32m/Users/dagutman/anaconda/envs/Flask_MultiRater/lib/python2.7/site-packages/requests/sessions.pyc\u001b[0m in \u001b[0;36mrequest\u001b[0;34m(self, method, url, params, data, headers, cookies, files, auth, timeout, allow_redirects, proxies, hooks, stream, verify, cert, json)\u001b[0m\n\u001b[1;32m    466\u001b[0m         }\n\u001b[1;32m    467\u001b[0m         \u001b[0msend_kwargs\u001b[0m\u001b[0;34m.\u001b[0m\u001b[0mupdate\u001b[0m\u001b[0;34m(\u001b[0m\u001b[0msettings\u001b[0m\u001b[0;34m)\u001b[0m\u001b[0;34m\u001b[0m\u001b[0m\n\u001b[0;32m--> 468\u001b[0;31m         \u001b[0mresp\u001b[0m \u001b[0;34m=\u001b[0m \u001b[0mself\u001b[0m\u001b[0;34m.\u001b[0m\u001b[0msend\u001b[0m\u001b[0;34m(\u001b[0m\u001b[0mprep\u001b[0m\u001b[0;34m,\u001b[0m \u001b[0;34m**\u001b[0m\u001b[0msend_kwargs\u001b[0m\u001b[0;34m)\u001b[0m\u001b[0;34m\u001b[0m\u001b[0m\n\u001b[0m\u001b[1;32m    469\u001b[0m \u001b[0;34m\u001b[0m\u001b[0m\n\u001b[1;32m    470\u001b[0m         \u001b[0;32mreturn\u001b[0m \u001b[0mresp\u001b[0m\u001b[0;34m\u001b[0m\u001b[0m\n",
      "\u001b[0;32m/Users/dagutman/anaconda/envs/Flask_MultiRater/lib/python2.7/site-packages/requests/sessions.pyc\u001b[0m in \u001b[0;36msend\u001b[0;34m(self, request, **kwargs)\u001b[0m\n\u001b[1;32m    574\u001b[0m \u001b[0;34m\u001b[0m\u001b[0m\n\u001b[1;32m    575\u001b[0m         \u001b[0;31m# Send the request\u001b[0m\u001b[0;34m\u001b[0m\u001b[0;34m\u001b[0m\u001b[0m\n\u001b[0;32m--> 576\u001b[0;31m         \u001b[0mr\u001b[0m \u001b[0;34m=\u001b[0m \u001b[0madapter\u001b[0m\u001b[0;34m.\u001b[0m\u001b[0msend\u001b[0m\u001b[0;34m(\u001b[0m\u001b[0mrequest\u001b[0m\u001b[0;34m,\u001b[0m \u001b[0;34m**\u001b[0m\u001b[0mkwargs\u001b[0m\u001b[0;34m)\u001b[0m\u001b[0;34m\u001b[0m\u001b[0m\n\u001b[0m\u001b[1;32m    577\u001b[0m \u001b[0;34m\u001b[0m\u001b[0m\n\u001b[1;32m    578\u001b[0m         \u001b[0;31m# Total elapsed time of the request (approximately)\u001b[0m\u001b[0;34m\u001b[0m\u001b[0;34m\u001b[0m\u001b[0m\n",
      "\u001b[0;32m/Users/dagutman/anaconda/envs/Flask_MultiRater/lib/python2.7/site-packages/requests/adapters.pyc\u001b[0m in \u001b[0;36msend\u001b[0;34m(self, request, stream, timeout, verify, cert, proxies)\u001b[0m\n\u001b[1;32m    374\u001b[0m                     \u001b[0mdecode_content\u001b[0m\u001b[0;34m=\u001b[0m\u001b[0mFalse\u001b[0m\u001b[0;34m,\u001b[0m\u001b[0;34m\u001b[0m\u001b[0m\n\u001b[1;32m    375\u001b[0m                     \u001b[0mretries\u001b[0m\u001b[0;34m=\u001b[0m\u001b[0mself\u001b[0m\u001b[0;34m.\u001b[0m\u001b[0mmax_retries\u001b[0m\u001b[0;34m,\u001b[0m\u001b[0;34m\u001b[0m\u001b[0m\n\u001b[0;32m--> 376\u001b[0;31m                     \u001b[0mtimeout\u001b[0m\u001b[0;34m=\u001b[0m\u001b[0mtimeout\u001b[0m\u001b[0;34m\u001b[0m\u001b[0m\n\u001b[0m\u001b[1;32m    377\u001b[0m                 )\n\u001b[1;32m    378\u001b[0m \u001b[0;34m\u001b[0m\u001b[0m\n",
      "\u001b[0;32m/Users/dagutman/anaconda/envs/Flask_MultiRater/lib/python2.7/site-packages/requests/packages/urllib3/connectionpool.pyc\u001b[0m in \u001b[0;36murlopen\u001b[0;34m(self, method, url, body, headers, retries, redirect, assert_same_host, timeout, pool_timeout, release_conn, **response_kw)\u001b[0m\n\u001b[1;32m    557\u001b[0m             httplib_response = self._make_request(conn, method, url,\n\u001b[1;32m    558\u001b[0m                                                   \u001b[0mtimeout\u001b[0m\u001b[0;34m=\u001b[0m\u001b[0mtimeout_obj\u001b[0m\u001b[0;34m,\u001b[0m\u001b[0;34m\u001b[0m\u001b[0m\n\u001b[0;32m--> 559\u001b[0;31m                                                   body=body, headers=headers)\n\u001b[0m\u001b[1;32m    560\u001b[0m \u001b[0;34m\u001b[0m\u001b[0m\n\u001b[1;32m    561\u001b[0m             \u001b[0;31m# If we're going to release the connection in ``finally:``, then\u001b[0m\u001b[0;34m\u001b[0m\u001b[0;34m\u001b[0m\u001b[0m\n",
      "\u001b[0;32m/Users/dagutman/anaconda/envs/Flask_MultiRater/lib/python2.7/site-packages/requests/packages/urllib3/connectionpool.pyc\u001b[0m in \u001b[0;36m_make_request\u001b[0;34m(self, conn, method, url, timeout, **httplib_request_kw)\u001b[0m\n\u001b[1;32m    343\u001b[0m         \u001b[0;31m# Trigger any extra validation we need to do.\u001b[0m\u001b[0;34m\u001b[0m\u001b[0;34m\u001b[0m\u001b[0m\n\u001b[1;32m    344\u001b[0m         \u001b[0;32mtry\u001b[0m\u001b[0;34m:\u001b[0m\u001b[0;34m\u001b[0m\u001b[0m\n\u001b[0;32m--> 345\u001b[0;31m             \u001b[0mself\u001b[0m\u001b[0;34m.\u001b[0m\u001b[0m_validate_conn\u001b[0m\u001b[0;34m(\u001b[0m\u001b[0mconn\u001b[0m\u001b[0;34m)\u001b[0m\u001b[0;34m\u001b[0m\u001b[0m\n\u001b[0m\u001b[1;32m    346\u001b[0m         \u001b[0;32mexcept\u001b[0m \u001b[0;34m(\u001b[0m\u001b[0mSocketTimeout\u001b[0m\u001b[0;34m,\u001b[0m \u001b[0mBaseSSLError\u001b[0m\u001b[0;34m)\u001b[0m \u001b[0;32mas\u001b[0m \u001b[0me\u001b[0m\u001b[0;34m:\u001b[0m\u001b[0;34m\u001b[0m\u001b[0m\n\u001b[1;32m    347\u001b[0m             \u001b[0;31m# Py2 raises this as a BaseSSLError, Py3 raises it as socket timeout.\u001b[0m\u001b[0;34m\u001b[0m\u001b[0;34m\u001b[0m\u001b[0m\n",
      "\u001b[0;32m/Users/dagutman/anaconda/envs/Flask_MultiRater/lib/python2.7/site-packages/requests/packages/urllib3/connectionpool.pyc\u001b[0m in \u001b[0;36m_validate_conn\u001b[0;34m(self, conn)\u001b[0m\n\u001b[1;32m    782\u001b[0m         \u001b[0;31m# Force connect early to allow us to validate the connection.\u001b[0m\u001b[0;34m\u001b[0m\u001b[0;34m\u001b[0m\u001b[0m\n\u001b[1;32m    783\u001b[0m         \u001b[0;32mif\u001b[0m \u001b[0;32mnot\u001b[0m \u001b[0mgetattr\u001b[0m\u001b[0;34m(\u001b[0m\u001b[0mconn\u001b[0m\u001b[0;34m,\u001b[0m \u001b[0;34m'sock'\u001b[0m\u001b[0;34m,\u001b[0m \u001b[0mNone\u001b[0m\u001b[0;34m)\u001b[0m\u001b[0;34m:\u001b[0m  \u001b[0;31m# AppEngine might not have  `.sock`\u001b[0m\u001b[0;34m\u001b[0m\u001b[0m\n\u001b[0;32m--> 784\u001b[0;31m             \u001b[0mconn\u001b[0m\u001b[0;34m.\u001b[0m\u001b[0mconnect\u001b[0m\u001b[0;34m(\u001b[0m\u001b[0;34m)\u001b[0m\u001b[0;34m\u001b[0m\u001b[0m\n\u001b[0m\u001b[1;32m    785\u001b[0m \u001b[0;34m\u001b[0m\u001b[0m\n\u001b[1;32m    786\u001b[0m         \u001b[0;32mif\u001b[0m \u001b[0;32mnot\u001b[0m \u001b[0mconn\u001b[0m\u001b[0;34m.\u001b[0m\u001b[0mis_verified\u001b[0m\u001b[0;34m:\u001b[0m\u001b[0;34m\u001b[0m\u001b[0m\n",
      "\u001b[0;32m/Users/dagutman/anaconda/envs/Flask_MultiRater/lib/python2.7/site-packages/requests/packages/urllib3/connection.pyc\u001b[0m in \u001b[0;36mconnect\u001b[0;34m(self)\u001b[0m\n\u001b[1;32m    215\u001b[0m     \u001b[0;32mdef\u001b[0m \u001b[0mconnect\u001b[0m\u001b[0;34m(\u001b[0m\u001b[0mself\u001b[0m\u001b[0;34m)\u001b[0m\u001b[0;34m:\u001b[0m\u001b[0;34m\u001b[0m\u001b[0m\n\u001b[1;32m    216\u001b[0m         \u001b[0;31m# Add certificate verification\u001b[0m\u001b[0;34m\u001b[0m\u001b[0;34m\u001b[0m\u001b[0m\n\u001b[0;32m--> 217\u001b[0;31m         \u001b[0mconn\u001b[0m \u001b[0;34m=\u001b[0m \u001b[0mself\u001b[0m\u001b[0;34m.\u001b[0m\u001b[0m_new_conn\u001b[0m\u001b[0;34m(\u001b[0m\u001b[0;34m)\u001b[0m\u001b[0;34m\u001b[0m\u001b[0m\n\u001b[0m\u001b[1;32m    218\u001b[0m \u001b[0;34m\u001b[0m\u001b[0m\n\u001b[1;32m    219\u001b[0m         \u001b[0mresolved_cert_reqs\u001b[0m \u001b[0;34m=\u001b[0m \u001b[0mresolve_cert_reqs\u001b[0m\u001b[0;34m(\u001b[0m\u001b[0mself\u001b[0m\u001b[0;34m.\u001b[0m\u001b[0mcert_reqs\u001b[0m\u001b[0;34m)\u001b[0m\u001b[0;34m\u001b[0m\u001b[0m\n",
      "\u001b[0;32m/Users/dagutman/anaconda/envs/Flask_MultiRater/lib/python2.7/site-packages/requests/packages/urllib3/connection.pyc\u001b[0m in \u001b[0;36m_new_conn\u001b[0;34m(self)\u001b[0m\n\u001b[1;32m    135\u001b[0m         \u001b[0;32mtry\u001b[0m\u001b[0;34m:\u001b[0m\u001b[0;34m\u001b[0m\u001b[0m\n\u001b[1;32m    136\u001b[0m             conn = connection.create_connection(\n\u001b[0;32m--> 137\u001b[0;31m                 (self.host, self.port), self.timeout, **extra_kw)\n\u001b[0m\u001b[1;32m    138\u001b[0m \u001b[0;34m\u001b[0m\u001b[0m\n\u001b[1;32m    139\u001b[0m         \u001b[0;32mexcept\u001b[0m \u001b[0mSocketTimeout\u001b[0m \u001b[0;32mas\u001b[0m \u001b[0me\u001b[0m\u001b[0;34m:\u001b[0m\u001b[0;34m\u001b[0m\u001b[0m\n",
      "\u001b[0;32m/Users/dagutman/anaconda/envs/Flask_MultiRater/lib/python2.7/site-packages/requests/packages/urllib3/util/connection.pyc\u001b[0m in \u001b[0;36mcreate_connection\u001b[0;34m(address, timeout, source_address, socket_options)\u001b[0m\n\u001b[1;32m     79\u001b[0m             \u001b[0;32mif\u001b[0m \u001b[0msource_address\u001b[0m\u001b[0;34m:\u001b[0m\u001b[0;34m\u001b[0m\u001b[0m\n\u001b[1;32m     80\u001b[0m                 \u001b[0msock\u001b[0m\u001b[0;34m.\u001b[0m\u001b[0mbind\u001b[0m\u001b[0;34m(\u001b[0m\u001b[0msource_address\u001b[0m\u001b[0;34m)\u001b[0m\u001b[0;34m\u001b[0m\u001b[0m\n\u001b[0;32m---> 81\u001b[0;31m             \u001b[0msock\u001b[0m\u001b[0;34m.\u001b[0m\u001b[0mconnect\u001b[0m\u001b[0;34m(\u001b[0m\u001b[0msa\u001b[0m\u001b[0;34m)\u001b[0m\u001b[0;34m\u001b[0m\u001b[0m\n\u001b[0m\u001b[1;32m     82\u001b[0m             \u001b[0;32mreturn\u001b[0m \u001b[0msock\u001b[0m\u001b[0;34m\u001b[0m\u001b[0m\n\u001b[1;32m     83\u001b[0m \u001b[0;34m\u001b[0m\u001b[0m\n",
      "\u001b[0;32m/Users/dagutman/anaconda/envs/Flask_MultiRater/lib/python2.7/socket.pyc\u001b[0m in \u001b[0;36mmeth\u001b[0;34m(name, self, *args)\u001b[0m\n\u001b[1;32m    226\u001b[0m \u001b[0;34m\u001b[0m\u001b[0m\n\u001b[1;32m    227\u001b[0m \u001b[0;32mdef\u001b[0m \u001b[0mmeth\u001b[0m\u001b[0;34m(\u001b[0m\u001b[0mname\u001b[0m\u001b[0;34m,\u001b[0m\u001b[0mself\u001b[0m\u001b[0;34m,\u001b[0m\u001b[0;34m*\u001b[0m\u001b[0margs\u001b[0m\u001b[0;34m)\u001b[0m\u001b[0;34m:\u001b[0m\u001b[0;34m\u001b[0m\u001b[0m\n\u001b[0;32m--> 228\u001b[0;31m     \u001b[0;32mreturn\u001b[0m \u001b[0mgetattr\u001b[0m\u001b[0;34m(\u001b[0m\u001b[0mself\u001b[0m\u001b[0;34m.\u001b[0m\u001b[0m_sock\u001b[0m\u001b[0;34m,\u001b[0m\u001b[0mname\u001b[0m\u001b[0;34m)\u001b[0m\u001b[0;34m(\u001b[0m\u001b[0;34m*\u001b[0m\u001b[0margs\u001b[0m\u001b[0;34m)\u001b[0m\u001b[0;34m\u001b[0m\u001b[0m\n\u001b[0m\u001b[1;32m    229\u001b[0m \u001b[0;34m\u001b[0m\u001b[0m\n\u001b[1;32m    230\u001b[0m \u001b[0;32mfor\u001b[0m \u001b[0m_m\u001b[0m \u001b[0;32min\u001b[0m \u001b[0m_socketmethods\u001b[0m\u001b[0;34m:\u001b[0m\u001b[0;34m\u001b[0m\u001b[0m\n",
      "\u001b[0;31mKeyboardInterrupt\u001b[0m: "
     ]
    }
   ],
   "source": [
    "study = getStudyDetail('55c4668a9fc3c1536a0130c8')  # UDA2_pilot\n",
    "study_images = getStudyImages(study['_id'])\n",
    "study_users = getStudyUsers(study['_id'])\n",
    "\n",
    "print study['name']\n",
    "for image in study_images:\n",
    "    print ' ', image['name']\n",
    "    # Fetch the details, so we can get metadata\n",
    "    image = getImageDetail(image['_id'])\n",
    "    for user in study_users:\n",
    "        print '   ', user['login'],\n",
    "        annotations = getAnnotations(\n",
    "            study_id=study['_id'],\n",
    "            image_id=image['_id'],\n",
    "            user_id=user['_id']\n",
    "        )\n",
    "        # A study + image + user should fully define a single annotation\n",
    "        assert len(annotations) == 1\n",
    "        \n",
    "        # We need to individually fetch annotations in order to get the feature values\n",
    "        annotation = getAnnotationDetail(annotations[0]['_id'])\n",
    "        \n",
    "        if annotation.get('stopTime'):\n",
    "            print 'complete'\n",
    "        else:\n",
    "            print 'pending'\n",
    "            continue\n",
    "        \n",
    "        if annotation.get('segmentationId'):\n",
    "            segmentation = getSegmentationDetail(annotation['segmentationId'])\n",
    "        else:\n",
    "            # Some old annotations don't have the segmentation ID attached yet\n",
    "            # So, grab the first (most recent) segmentation associated with the image\n",
    "            segmentation = apiGet('segmentation?imageId=%s' % annotation['imageId'])[0]\n",
    "\n",
    "        image_metadata = image['meta']\n",
    "        superpixels = getSegmentationSuperpixels(segmentation['_id'])\n",
    "        feature_values = annotation['annotations']\n",
    "        # There is some inconsistancy in how the annotations are currently stored\n",
    "        if 'region_features' in feature_values:\n",
    "            feature_values = feature_values['region_features']\n",
    "\n",
    "        # TODO: do something with the image_metadata, superpixels, and feature_values\n"
   ]
  },
  {
   "cell_type": "code",
   "execution_count": 5,
   "metadata": {
    "collapsed": false
   },
   "outputs": [],
   "source": [
    "## So now what we really want to play around with, is for a given image (which we look up by ID)... lets get the samn results!\n",
    "sample_studyId = '55c4668a9fc3c1536a0130c8'\n",
    "\n",
    "study = getStudyDetail(sample_studyId)  # UDA2_pilot\n",
    "study_images = getStudyImages(study['_id'])\n",
    "study_users = getStudyUsers(study['_id'])\n",
    "\n",
    "def _makeUrl(endpoint):\n",
    "    API_URL = 'https://isic-archive.com/api/v1'\n",
    "    return '%s/%s' % (API_URL, endpoint)\n"
   ]
  },
  {
   "cell_type": "code",
   "execution_count": 8,
   "metadata": {
    "collapsed": false
   },
   "outputs": [
    {
     "name": "stdout",
     "output_type": "stream",
     "text": [
      "{u'_id': u'54e755f7bae47850e86cdff9', u'name': u'ISIC_0001110'}\n"
     ]
    },
    {
     "data": {
      "text/html": [
       "<img src=\"https://isic-archive.com/api/v1/image/54e755f7bae47850e86cdff9/thumbnail?width=300\"/>"
      ],
      "text/plain": [
       "<IPython.core.display.Image object>"
      ]
     },
     "metadata": {},
     "output_type": "display_data"
    }
   ],
   "source": [
    "from IPython.display import display,Image\n",
    "import IPython\n",
    "sample_image =  study_images[10]\n",
    "print sample_image\n",
    "##  Now for this image and this study, who drew stuff on it... I also acutally want to look at the image..\n",
    "## Frst let's display image\n",
    "getImageThumbnail(sample_image['_id'])\n",
    "thumb_url = _makeUrl('image/%s/thumbnail?width=300' % sample_image['_id'])\n",
    "display(Image(url=thumb_url))\n",
    "\n",
    "## Now I am curious to see what \"stuff\" was marked up..\n"
   ]
  },
  {
   "cell_type": "code",
   "execution_count": 14,
   "metadata": {
    "collapsed": false
   },
   "outputs": [
    {
     "name": "stdout",
     "output_type": "stream",
     "text": [
      " [{u'login': u'braunr', u'_id': u'54f9c702bae47807dbb0d5ba'}, {u'login': u'carrerac', u'_id': u'54f86f12bae47871b5e0506a'}, {u'login': u'haroldr', u'_id': u'54f9f7a3bae47807dbb0d836'}, {u'login': u'marghooa', u'_id': u'54cbe807bae47819d8e4c79a'}]\n",
      "{u'54f9f7a3bae47807dbb0d836': u'haroldr', u'54f86f12bae47871b5e0506a': u'carrerac', u'54f9c702bae47807dbb0d5ba': u'braunr', u'54cbe807bae47819d8e4c79a': u'marghooa'}\n"
     ]
    }
   ],
   "source": [
    "## Now let's get some data?? i.e. markups\n",
    "## First thing is to get the annotations associated with a specific image... this is really just the uniqueID keys, not the data\n",
    "image_annotation_set = getAnnotations(sample_studyId, image_id=sample_image['_id'])\n",
    "print study_users\n",
    "\n",
    "studyUsers_ToEnglish = {}\n",
    "for x in study_users:\n",
    "    studyUsers_ToEnglish[x['_id']] = x['login']\n",
    "    \n",
    "print studyUsers_ToEnglish"
   ]
  },
  {
   "cell_type": "code",
   "execution_count": 28,
   "metadata": {
    "collapsed": false
   },
   "outputs": [
    {
     "name": "stdout",
     "output_type": "stream",
     "text": [
      "Pulling annotation data for marghooa\n",
      "Pulling annotation data for braunr\n",
      "Pulling annotation data for haroldr\n",
      "Pulling annotation data for carrerac\n"
     ]
    }
   ],
   "source": [
    "### Lets get the actual annotations.. i.e. the ANSWERS people used..\n",
    "#print image_annotation_set\n",
    "\n",
    "#sys.exit()\n",
    "\n",
    "user_annotations = []\n",
    "for ias in image_annotation_set:\n",
    "    #print ias,ias['userId'], studyUsers_ToEnglish[ias['userId']]\n",
    "    ## Let's pull the annotation data for\n",
    "    print \"Pulling annotation data for\",studyUsers_ToEnglish[ias['userId']]\n",
    "    ua = getAnnotationDetail(ias['_id'])\n",
    "    user_annotations.append(ua)"
   ]
  },
  {
   "cell_type": "code",
   "execution_count": 51,
   "metadata": {
    "collapsed": false
   },
   "outputs": [
    {
     "name": "stdout",
     "output_type": "stream",
     "text": [
      "[u'image_features', u'region_features']\n",
      "ISIC_0001110 marghooa marked up this image.. lets see what he thought...\n",
      "----IMAGE LEVEL FEATURES\n",
      "organization org_no\n",
      "patternsym symp_none\n",
      "shapesym sym_oneaxis\n",
      "pattern other\n",
      "235 super pixels in this set and 29.0 29\n",
      "235 super pixels in this set and 5.0 5\n",
      "235 super pixels in this set and 8.0 8\n",
      "235 super pixels in this set and 15.0 15\n",
      "235 super pixels in this set and 6.0 6\n",
      "235 super pixels in this set and 0.0 0\n",
      "235 super pixels in this set and 3.0 3\n",
      "235 super pixels in this set and 1.0 1\n",
      "235 super pixels in this set and 4.0 4\n",
      "ISIC_0001110 braunr marked up this image.. lets see what he thought...\n",
      "----IMAGE LEVEL FEATURES\n",
      "organization org_no\n",
      "patternsym symp_none\n",
      "shapesym sym_none\n",
      "pattern other\n",
      "235 super pixels in this set and 60.0 60\n",
      "235 super pixels in this set and 2.0 2\n",
      "235 super pixels in this set and 3.0 3\n",
      "235 super pixels in this set and 6.0 6\n",
      "235 super pixels in this set and 20.0 20\n",
      "235 super pixels in this set and 0.0 0\n",
      "235 super pixels in this set and 1.0 1\n",
      "235 super pixels in this set and 13.0 13\n",
      "235 super pixels in this set and 6.0 6\n",
      "235 super pixels in this set and 3.0 3\n",
      "235 super pixels in this set and 5.0 5\n",
      "235 super pixels in this set and 3.0 3\n",
      "235 super pixels in this set and 20.0 20\n",
      "235 super pixels in this set and 8.0 8\n",
      "235 super pixels in this set and 0.0 0\n",
      "235 super pixels in this set and 5.0 5\n",
      "ISIC_0001110 haroldr marked up this image.. lets see what he thought...\n",
      "----IMAGE LEVEL FEATURES\n",
      "organization org_no\n",
      "shapesym sym_none\n",
      "pattern other\n",
      "235 super pixels in this set and 10.0 10\n",
      "235 super pixels in this set and 6.0 6\n",
      "235 super pixels in this set and 5.0 5\n",
      "235 super pixels in this set and 6.0 6\n",
      "235 super pixels in this set and 20.0 20\n",
      "235 super pixels in this set and 12.0 12\n",
      "235 super pixels in this set and 10.0 10\n",
      "235 super pixels in this set and 2.0 2\n",
      "235 super pixels in this set and 2.0 2\n",
      "235 super pixels in this set and 5.0 5\n",
      "235 super pixels in this set and 9.0 9\n",
      "235 super pixels in this set and 5.0 5\n",
      "235 super pixels in this set and 30.0 30\n",
      "235 super pixels in this set and 2.0 2\n",
      "235 super pixels in this set and 3.0 3\n",
      "235 super pixels in this set and 2.0 2\n",
      "ISIC_0001110 carrerac marked up this image.. lets see what he thought...\n",
      "----IMAGE LEVEL FEATURES\n",
      "organization org_no\n",
      "patternsym symp_none\n",
      "shapesym sym_oneaxis\n",
      "pattern other\n",
      "235 super pixels in this set and 17.0 17\n",
      "235 super pixels in this set and 31.0 31\n",
      "235 super pixels in this set and 12.0 12\n",
      "235 super pixels in this set and 0.0 0\n",
      "235 super pixels in this set and 6.0 6\n",
      "235 super pixels in this set and 12.0 12\n",
      "235 super pixels in this set and 67.0 67\n",
      "235 super pixels in this set and 0.0 0\n",
      "235 super pixels in this set and 7.0 7\n",
      "235 super pixels in this set and 0.0 0\n",
      "235 super pixels in this set and 13.0 13\n",
      "235 super pixels in this set and 14.0 14\n",
      "235 super pixels in this set and 15.0 30\n",
      "235 super pixels in this set and 5.0 5\n",
      "235 super pixels in this set and 0.0 0\n",
      "235 super pixels in this set and 0.0 0\n",
      "235 super pixels in this set and 0.0 0\n",
      "235 super pixels in this set and 0.0 0\n",
      "235 super pixels in this set and 42.0 42\n",
      "235 super pixels in this set and 2.0 2\n"
     ]
    }
   ],
   "source": [
    "#print user_annotation## OK MOHAMMED, what is in a user annotation. this is complicated, so here we go\n",
    "import datetime\n",
    "## At least for this study, the way we have things organized:\n",
    "## studyID:  Self Explanatory\n",
    "## imageId:  The same (probably want to keep the derefernced name handy in a helper dictionary)\n",
    "## startTime and endTime;  We will want to do some statistics on these...\n",
    "## Now it gets more complicated, what's in an annotation (and remeber this is what I really want to filter on..)\n",
    "## annotation  -->  Two properties:  \n",
    "#              image_features:  Apply to an ENTIRE image, like Tan Skin, Melanotic Lesion, etc, etc\n",
    "#`             region_features:  These specify information about a given feature and what superpixels that was detected in\n",
    "#               HOWEVER:  If a feature was not marked up, we didn't bother creating an \"empty\" array of all 0's\n",
    "#               Another thing that's weird:  The array is indexed based on a superpixelID, which changes for each and every image\n",
    "\n",
    "\n",
    "print user_annotations[2]['annotations'].keys()\n",
    "\n",
    "\n",
    "for ua in user_annotations:\n",
    "    #imageMarkupTime = date(ua['stopTime']) - date(ua['startTime'])\n",
    "    #print ua['startTime'],ua['stopTime'],\n",
    "    print ua['name'],ua['user']['login'],'marked up this image.. lets see what he thought...'\n",
    "    ## #Now let's get the actual ANNOTATIONS... which are at the image and region level\n",
    "    image_annots = ua['annotations']['image_features']\n",
    "    region_annots = ua['annotations']['region_features']\n",
    "    print \"----IMAGE LEVEL FEATURES\"\n",
    "    for k,v in image_annots.iteritems():\n",
    "        print k,v\n",
    "    ## We cna't simply print the next set out.. too many damn numbes..\n",
    "    ## LEt's see how many features overall this person may have evaluated...\n",
    "    potential_markedup_features = region_annots.keys() ## In theory these features were markedup, although there's a weird exception\n",
    "    ## So annoyingly, just beacause there's an array for a feature, it still potentially can contain all 0's.. c'est lavie\n",
    "    for k,v in region_annots.iteritems():\n",
    "        print len(v),'super pixels in this set and',sum(v),sum([1 for x in v if x>0])\n",
    "\n",
    "\n",
    "        \n",
    "    "
   ]
  },
  {
   "cell_type": "code",
   "execution_count": null,
   "metadata": {
    "collapsed": true
   },
   "outputs": [],
   "source": []
  }
 ],
 "metadata": {
  "kernelspec": {
   "display_name": "Python 2",
   "language": "python",
   "name": "python2"
  },
  "language_info": {
   "codemirror_mode": {
    "name": "ipython",
    "version": 2
   },
   "file_extension": ".py",
   "mimetype": "text/x-python",
   "name": "python",
   "nbconvert_exporter": "python",
   "pygments_lexer": "ipython2",
   "version": "2.7.11"
  }
 },
 "nbformat": 4,
 "nbformat_minor": 0
}
