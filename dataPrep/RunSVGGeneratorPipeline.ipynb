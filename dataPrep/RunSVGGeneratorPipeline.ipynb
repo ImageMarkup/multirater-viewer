{
 "cells": [
  {
   "cell_type": "code",
   "execution_count": 1,
   "metadata": {},
   "outputs": [
    {
     "name": "stdout",
     "output_type": "stream",
     "text": [
      "Login or email: admin\n",
      "Password for admin: ········\n"
     ]
    }
   ],
   "source": [
    "### This is cool1! This will run the item task pipeline to convert an PNG image into a JSON file\n",
    "import girder_client\n",
    "import json\n",
    "\n",
    "gc = girder_client.GirderClient(apiUrl=\"http://dermannotator.org:8080/api/v1\")\n",
    "gc.authenticate(interactive=True)\n"
   ]
  },
  {
   "cell_type": "code",
   "execution_count": null,
   "metadata": {
    "collapsed": true
   },
   "outputs": [],
   "source": [
    "taskSpec = { \"inputs\": json.dumps({\"in_file\":{\"mode\":\"girder\",\"resource_type\":\"item\",\"id\":\"5c9acf56e62914003a1f8737\",\"fileName\":\"ISIC_0000503_superpixels_v3.0.png\"}}),\n",
    "            \"outputs\": json.dumps({\"out_file\":{\"mode\":\"girder\",\"parent_id\":\"5c9acf56e62914003a1f8734\",\"parent_type\":\"folder\",\"name\":\"ISIC_0000503_superpixels_v3.0.png.svg.wootwootabc.json\"}})\n",
    "           }\n",
    "    \n",
    "\n",
    "# itRun = gc.post('item_task/5c913e38e6291400678238bc/execution',parameters=\\\n",
    "#                 \"inputs=%7B%22in_file%22%3A%7B%22mode%22%3A%22girder%22%2C%22resource_type%22%3A%22item%22%2C%22id%22%3A%225c9acf56e62914003a1f8737%22%2C%22fileName%22%3A%22ISIC_0011403_superpixels_v3.0.png%22%7D%7D&outputs=%7B%22out_file%22%3A%7B%22mode%22%3A%22girder%22%2C%22parent_id%22%3A%225c9acf56e62914003a1f8734%22%2C%22parent_type%22%3A%22folder%22%2C%22name%22%3A%22ISIC_0011403_spx.svg.helloworld.json%22%7D%7D\")\n",
    "dockerIn = json.dumps(taskSpec['inputs'])\n",
    "dockerOut = json.dumps(taskSpec['outputs'])\n",
    "\n",
    "\n",
    "\n",
    "itRun = gc.post('item_task/5c913e38e6291400678238bc/execution',data=taskSpec)\n",
    "\n"
   ]
  },
  {
   "cell_type": "code",
   "execution_count": 5,
   "metadata": {},
   "outputs": [
    {
     "name": "stdout",
     "output_type": "stream",
     "text": [
      "MSK-1\n",
      "5c9acf0ae62914003a1f7270 MSK-1 1100 Items in Folder\n",
      "MSK-2\n",
      "5c9acf68e62914003a1f8c53 MSK-2 1535 Items in Folder\n",
      "MSK-3\n",
      "5c9acf59e62914003a1f87ed MSK-3 225 Items in Folder\n",
      "MSK-4\n",
      "5c9acfd4e62914003a1faa4f MSK-4 947 Items in Folder\n",
      "MSK-5\n",
      "5c9acf03e62914003a1f7044 MSK-5 111 Items in Folder\n",
      "UDA-1\n",
      "5c9ad019e62914003a1fbdfb UDA-1 557 Items in Folder\n"
     ]
    }
   ],
   "source": [
    "### What we want to get is the folder named Lesion Images.. then iterate through EACH of those folders\n",
    "LesionImagesFolderId= '59bab8b892ca9a00175631c5'\n",
    "### Get Folders that are in the LesionImages Directory\n",
    "LesionImageFolders =  list(gc.listFolder(LesionImagesFolderId))\n",
    "\n",
    "\n",
    "tasksRan = 0\n",
    "for LIF in LesionImageFolders:\n",
    "    ### Now get the Folders in this set of folders... which are the IMAGES we want..\n",
    "    print(LIF['name'])\n",
    "    if (LIF['name']):#==\"UDA-1\": ##:==\"UDA-1\"\n",
    "        curImageSetItems = list(gc.listFolder(LIF['_id']))\n",
    "        print LIF['_id'],LIF['name'],len(curImageSetItems),\"Items in Folder\"\n",
    "        for cISI in curImageSetItems:\n",
    "            ### Now I need to query this folder for the image... which has the SVG, JSON and JPG file I want\n",
    "            ### These are ITEMS within folder... so note I switched from getting folders to getting items\n",
    "            folderId = cISI['_id']\n",
    "            imageData = list(gc.listItem(cISI['_id']))  ### this basically lists the items in this folder\n",
    "            imageFolderName = cISI['name']\n",
    "            imgFileNameDict = {x['name']:x for x in imageData}\n",
    "            #print(imgFileNameDict)\n",
    "            svgJsonFile = imageFolderName+\"_superpixels_v3.0.svg.json\"\n",
    "            \n",
    "            spxPng = imgFileNameDict[imageFolderName+\"_superpixels_v3.0.png\"]\n",
    "#            print(spxPng)\n",
    "            taskSpec = { \"inputs\": json.dumps({\"in_file\":{\"mode\":\"girder\",\"resource_type\":\"item\",\"id\":spxPng['_id'],\"fileName\":spxPng['name']}}),\n",
    "            \"outputs\": json.dumps({\"out_file\":{\"mode\":\"girder\",\"parent_id\":cISI['_id'],\"parent_type\":\"folder\",\"name\":svgJsonFile}})\n",
    "            }\n",
    " \n",
    "            #print(taskSpec)\n",
    "            ## TO DO-- maybe track this at a folder level\n",
    "            if (svgJsonFile not in imgFileNameDict):\n",
    "                itRun = gc.post('item_task/5c913e38e6291400678238bc/execution',data=taskSpec)\n",
    "                tasksRan+=1\n",
    "            ###the id refers to the file I want to feed in \n",
    "            \n",
    "#             if svgJsonFile not in imgFileNames:\n"
   ]
  },
  {
   "cell_type": "code",
   "execution_count": null,
   "metadata": {
    "collapsed": true
   },
   "outputs": [],
   "source": [
    "#                  taskSpec = { \"inputs\": json.dumps({\"in_file\":{\"mode\":\"girder\",\"resource_type\":\"item\",\"id\":,\"fileName\":\"ISIC_0000503_superpixels_v3.0.png\"}}),\n",
    "#                 \"outputs\": json.dumps({\"out_file\":{\"mode\":\"girder\",\"parent_id\":\"5c9acf56e62914003a1f8734\",\"parent_type\":\"folder\",\"name\":\"ISIC_0000503_superpixels_v3.0.png.svg.wootwootabc.json\"}})\n",
    "#                    }\n",
    "            \n",
    "            \n",
    "            ### Basically see if there is a file that ends with .JSON, otherwise.. make one!\n",
    "            \n",
    "            \n",
    "    #         FolderMetaData = gc.getFolder(folderId)\n",
    "# #         for iD in imageData:\n",
    "# #             if iD['name'].endswith('.svg.json'):\n",
    "# #                 ### Probably add in a check to see if the metadata is already loaded anyway..\n",
    "# #                 svgJsonId = iD['_id']\n",
    "# #                 SVGItemInfo = list(gc.listFile(svgJsonId)) ### need to not return a generator\n",
    "# #                 svgJsonId = SVGItemInfo[0]['_id']\n",
    "# #                 gc.addMetadataToFolder(folderId,{'svgJsonId': svgJsonId})\n",
    "# #             if iD['name'].endswith('.jpg'):\n",
    "# #                 ### This gets the ID for the large item\n",
    "# #                 thumbnailId = iD['_id']\n",
    "# #                 gc.addMetadataToFolder(folderId,{'thumbnailId':thumbnailId})\n",
    "\n",
    "            \n",
    "            \n",
    "# # ### Add function to look for folders that dont have this metadata?"
   ]
  }
 ],
 "metadata": {
  "kernelspec": {
   "display_name": "Python 3",
   "language": "python",
   "name": "python3"
  },
  "language_info": {
   "codemirror_mode": {
    "name": "ipython",
    "version": 3
   },
   "file_extension": ".py",
   "mimetype": "text/x-python",
   "name": "python",
   "nbconvert_exporter": "python",
   "pygments_lexer": "ipython3",
   "version": "3.7.3"
  }
 },
 "nbformat": 4,
 "nbformat_minor": 1
}
